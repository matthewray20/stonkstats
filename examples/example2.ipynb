{
 "cells": [
  {
   "attachments": {},
   "cell_type": "markdown",
   "metadata": {},
   "source": [
    "# Example 2"
   ]
  },
  {
   "attachments": {},
   "cell_type": "markdown",
   "metadata": {},
   "source": [
    "### Set 1: Creating an instance of the Portfolio class"
   ]
  },
  {
   "cell_type": "code",
   "execution_count": null,
   "metadata": {},
   "outputs": [],
   "source": [
    "import sys\n",
    "import os\n",
    "# hacky way to get Portfolio import but it works\n",
    "path = os.getcwd().split('/')\n",
    "new_path = '/'.join(path[:-1])\n",
    "sys.path.append(new_path)\n",
    "from portfolio import Portfolio\n",
    "from datetime import datetime\n",
    "\n",
    "portfolio = Portfolio()"
   ]
  },
  {
   "attachments": {},
   "cell_type": "markdown",
   "metadata": {},
   "source": [
    "### Step 2: Setting up portfolio automatically"
   ]
  },
  {
   "cell_type": "code",
   "execution_count": null,
   "metadata": {},
   "outputs": [],
   "source": [
    "portfolio.set_default_currency('AUD')\n",
    "portfolio.set_data_date_format('%Y-%m-%d')\n",
    "portfolio.set_backend('alphaVantage')\n",
    "# now we can see that the values have been set\n",
    "print(portfolio.default_currency)\n",
    "print(portfolio.date_format)\n",
    "print(portfolio.api.__class__.__name__)"
   ]
  },
  {
   "attachments": {},
   "cell_type": "markdown",
   "metadata": {},
   "source": [
    "### Step 3: Adding data"
   ]
  },
  {
   "cell_type": "code",
   "execution_count": null,
   "metadata": {},
   "outputs": [],
   "source": [
    "# from save\n",
    "portfolio.add_from_pickle('example_portfolio.pkl')\n",
    "print(portfolio)"
   ]
  }
 ],
 "metadata": {
  "language_info": {
   "name": "python"
  },
  "orig_nbformat": 4
 },
 "nbformat": 4,
 "nbformat_minor": 2
}
