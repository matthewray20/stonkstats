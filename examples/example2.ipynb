{
 "cells": [
  {
   "attachments": {},
   "cell_type": "markdown",
   "metadata": {},
   "source": [
    "# Example 2"
   ]
  },
  {
   "attachments": {},
   "cell_type": "markdown",
   "metadata": {},
   "source": [
    "### Set 1: Creating an instance of the Portfolio class"
   ]
  },
  {
   "cell_type": "code",
   "execution_count": 2,
   "metadata": {},
   "outputs": [
    {
     "name": "stdout",
     "output_type": "stream",
     "text": [
      "/Users/mattray/Documents/fun/stonkstats\n"
     ]
    },
    {
     "ename": "ModuleNotFoundError",
     "evalue": "No module named 'portfolio'",
     "output_type": "error",
     "traceback": [
      "\u001b[0;31m---------------------------------------------------------------------------\u001b[0m",
      "\u001b[0;31mModuleNotFoundError\u001b[0m                       Traceback (most recent call last)",
      "Cell \u001b[0;32mIn[2], line 6\u001b[0m\n\u001b[1;32m      4\u001b[0m \u001b[39mprint\u001b[39m(pathlib\u001b[39m.\u001b[39mPath()\u001b[39m.\u001b[39mabsolute()\u001b[39m.\u001b[39mparent)\n\u001b[1;32m      5\u001b[0m sys\u001b[39m.\u001b[39mpath\u001b[39m.\u001b[39mappend(pathlib\u001b[39m.\u001b[39mPath()\u001b[39m.\u001b[39mabsolute()\u001b[39m.\u001b[39mparent)\n\u001b[0;32m----> 6\u001b[0m \u001b[39mfrom\u001b[39;00m \u001b[39mportfolio\u001b[39;00m \u001b[39mimport\u001b[39;00m Portfolio\n\u001b[1;32m      7\u001b[0m \u001b[39mfrom\u001b[39;00m \u001b[39mdatetime\u001b[39;00m \u001b[39mimport\u001b[39;00m datetime\n\u001b[1;32m      9\u001b[0m portfolio \u001b[39m=\u001b[39m Portfolio()\n",
      "\u001b[0;31mModuleNotFoundError\u001b[0m: No module named 'portfolio'"
     ]
    }
   ],
   "source": [
    "import sys\n",
    "import pathlib\n",
    "# hacky way to get Portfolio import but it works\n",
    "sys.path.append(str(pathlib.Path().absolute().parent))\n",
    "from portfolio import Portfolio\n",
    "from datetime import datetime\n",
    "\n",
    "portfolio = Portfolio()"
   ]
  },
  {
   "attachments": {},
   "cell_type": "markdown",
   "metadata": {},
   "source": [
    "### Step 2: Setting up portfolio automatically"
   ]
  },
  {
   "cell_type": "code",
   "execution_count": null,
   "metadata": {},
   "outputs": [],
   "source": [
    "portfolio.set_default_currency('AUD')\n",
    "portfolio.set_data_date_format('%Y-%m-%d')\n",
    "portfolio.set_backend('alphaVantage')\n",
    "# now we can see that the values have been set\n",
    "print(portfolio.default_currency)\n",
    "print(portfolio.date_format)\n",
    "print(portfolio.api.__class__.__name__)"
   ]
  },
  {
   "attachments": {},
   "cell_type": "markdown",
   "metadata": {},
   "source": [
    "### Step 3: Adding data"
   ]
  },
  {
   "cell_type": "code",
   "execution_count": null,
   "metadata": {},
   "outputs": [],
   "source": [
    "# from save\n",
    "portfolio.add_from_pickle('example_portfolio.pkl')\n",
    "print(portfolio)"
   ]
  }
 ],
 "metadata": {
  "kernelspec": {
   "display_name": "base",
   "language": "python",
   "name": "python3"
  },
  "language_info": {
   "codemirror_mode": {
    "name": "ipython",
    "version": 3
   },
   "file_extension": ".py",
   "mimetype": "text/x-python",
   "name": "python",
   "nbconvert_exporter": "python",
   "pygments_lexer": "ipython3",
   "version": "3.9.11"
  },
  "orig_nbformat": 4
 },
 "nbformat": 4,
 "nbformat_minor": 2
}
