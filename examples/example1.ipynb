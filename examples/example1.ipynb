{
 "cells": [
  {
   "attachments": {},
   "cell_type": "markdown",
   "metadata": {},
   "source": [
    "# Example 1"
   ]
  },
  {
   "attachments": {},
   "cell_type": "markdown",
   "metadata": {},
   "source": [
    "### Set 1: Creating an instance of the Portfolio class"
   ]
  },
  {
   "cell_type": "code",
   "execution_count": 1,
   "metadata": {},
   "outputs": [
    {
     "name": "stdout",
     "output_type": "stream",
     "text": [
      "appending: /Users/mattray/Documents/fun/stonkstats\n",
      "appending2: /Users/mattray/Documents/fun/stonkstats\n"
     ]
    },
    {
     "ename": "ModuleNotFoundError",
     "evalue": "No module named 'portfolio'",
     "output_type": "error",
     "traceback": [
      "\u001b[0;31m---------------------------------------------------------------------------\u001b[0m",
      "\u001b[0;31mModuleNotFoundError\u001b[0m                       Traceback (most recent call last)",
      "Cell \u001b[0;32mIn[1], line 11\u001b[0m\n\u001b[1;32m      9\u001b[0m \u001b[39mprint\u001b[39m(\u001b[39m'\u001b[39m\u001b[39mappending2:\u001b[39m\u001b[39m'\u001b[39m, pathlib\u001b[39m.\u001b[39mPath()\u001b[39m.\u001b[39mabsolute()\u001b[39m.\u001b[39mparent)\n\u001b[1;32m     10\u001b[0m \u001b[39m#sys.path.append(pathlib.Path().absolute().parent)\u001b[39;00m\n\u001b[0;32m---> 11\u001b[0m \u001b[39mfrom\u001b[39;00m \u001b[39mportfolio\u001b[39;00m \u001b[39mimport\u001b[39;00m Portfolio\n\u001b[1;32m     12\u001b[0m \u001b[39mfrom\u001b[39;00m \u001b[39mdatetime\u001b[39;00m \u001b[39mimport\u001b[39;00m datetime\n\u001b[1;32m     14\u001b[0m portfolio \u001b[39m=\u001b[39m Portfolio()\n",
      "\u001b[0;31mModuleNotFoundError\u001b[0m: No module named 'portfolio'"
     ]
    }
   ],
   "source": [
    "import sys\n",
    "import pathlib\n",
    "import yaml\n",
    "import os\n",
    "# hacky way to get Portfolio import but it works\n",
    "path = os.getcwd().split('/')\n",
    "new_path = '/'.join(path[:-1])\n",
    "print('appending:', new_path)\n",
    "print('appending2:', pathlib.Path().absolute().parent)\n",
    "#sys.path.append(pathlib.Path().absolute().parent)\n",
    "sys.path.append(new_path)\n",
    "from portfolio import Portfolio\n",
    "from datetime import datetime\n",
    "\n",
    "portfolio = Portfolio()"
   ]
  },
  {
   "attachments": {},
   "cell_type": "markdown",
   "metadata": {},
   "source": [
    "### Step 2: Setting up portfolio automatically"
   ]
  },
  {
   "cell_type": "code",
   "execution_count": null,
   "metadata": {},
   "outputs": [],
   "source": [
    "# load in config file\n",
    "with open('config.yaml', 'rb') as f:\n",
    "    config = yaml.load(f, Loader=yaml.FullLoader)\n",
    "portfolio.setup_from_config(config)\n",
    "# now we can see that the values have been set\n",
    "print(portfolio.default_currency)\n",
    "print(portfolio.date_format)\n",
    "print(portfolio.api.__class__.__name__)"
   ]
  },
  {
   "attachments": {},
   "cell_type": "markdown",
   "metadata": {},
   "source": [
    "### Step 3: Adding data"
   ]
  },
  {
   "cell_type": "code",
   "execution_count": null,
   "metadata": {},
   "outputs": [],
   "source": [
    "portfolio.add_from_csv(config['data']['filename'])\n",
    "print(portfolio)"
   ]
  },
  {
   "attachments": {},
   "cell_type": "markdown",
   "metadata": {},
   "source": [
    "### Step 4: Adding new data"
   ]
  },
  {
   "cell_type": "code",
   "execution_count": null,
   "metadata": {},
   "outputs": [],
   "source": [
    "portfolio.add_new_asset('MSFT', 'security')\n",
    "portfolio.add_asset_event(\n",
    "    ticker='MSFT', \n",
    "    date=datetime(day=1, month=2, year=2023), \n",
    "    quantity=16, \n",
    "    price=252.75, \n",
    "    event_type='buy', \n",
    "    currency='USD', \n",
    "    allow_duplicates=False)\n",
    "\n",
    "print(portfolio)\n",
    "print(portfolio.assets['MSFT'])"
   ]
  }
 ],
 "metadata": {
  "kernelspec": {
   "display_name": "base",
   "language": "python",
   "name": "python3"
  },
  "language_info": {
   "codemirror_mode": {
    "name": "ipython",
    "version": 3
   },
   "file_extension": ".py",
   "mimetype": "text/x-python",
   "name": "python",
   "nbconvert_exporter": "python",
   "pygments_lexer": "ipython3",
   "version": "3.9.11"
  },
  "orig_nbformat": 4
 },
 "nbformat": 4,
 "nbformat_minor": 2
}
